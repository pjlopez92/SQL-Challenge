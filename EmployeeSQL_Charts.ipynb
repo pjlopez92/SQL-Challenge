{
 "cells": [
  {
   "cell_type": "code",
   "execution_count": 25,
   "metadata": {},
   "outputs": [
    {
     "data": {
      "text/html": [
       "<div>\n",
       "<style scoped>\n",
       "    .dataframe tbody tr th:only-of-type {\n",
       "        vertical-align: middle;\n",
       "    }\n",
       "\n",
       "    .dataframe tbody tr th {\n",
       "        vertical-align: top;\n",
       "    }\n",
       "\n",
       "    .dataframe thead th {\n",
       "        text-align: right;\n",
       "    }\n",
       "</style>\n",
       "<table border=\"1\" class=\"dataframe\">\n",
       "  <thead>\n",
       "    <tr style=\"text-align: right;\">\n",
       "      <th></th>\n",
       "      <th>Employee No.</th>\n",
       "      <th>Salary</th>\n",
       "      <th>Title</th>\n",
       "    </tr>\n",
       "  </thead>\n",
       "  <tbody>\n",
       "    <tr>\n",
       "      <td>0</td>\n",
       "      <td>10001</td>\n",
       "      <td>60117</td>\n",
       "      <td>Senior Engineer</td>\n",
       "    </tr>\n",
       "    <tr>\n",
       "      <td>1</td>\n",
       "      <td>10002</td>\n",
       "      <td>65828</td>\n",
       "      <td>Staff</td>\n",
       "    </tr>\n",
       "    <tr>\n",
       "      <td>2</td>\n",
       "      <td>10003</td>\n",
       "      <td>40006</td>\n",
       "      <td>Senior Engineer</td>\n",
       "    </tr>\n",
       "    <tr>\n",
       "      <td>3</td>\n",
       "      <td>10004</td>\n",
       "      <td>40054</td>\n",
       "      <td>Engineer</td>\n",
       "    </tr>\n",
       "    <tr>\n",
       "      <td>4</td>\n",
       "      <td>10004</td>\n",
       "      <td>40054</td>\n",
       "      <td>Senior Engineer</td>\n",
       "    </tr>\n",
       "  </tbody>\n",
       "</table>\n",
       "</div>"
      ],
      "text/plain": [
       "  Employee No.  Salary            Title\n",
       "0        10001   60117  Senior Engineer\n",
       "1        10002   65828            Staff\n",
       "2        10003   40006  Senior Engineer\n",
       "3        10004   40054         Engineer\n",
       "4        10004   40054  Senior Engineer"
      ]
     },
     "execution_count": 25,
     "metadata": {},
     "output_type": "execute_result"
    }
   ],
   "source": [
    "import psycopg2\n",
    "import pandas as pd\n",
    "import matplotlib.pyplot as plt\n",
    "from matplotlib.ticker import StrMethodFormatter\n",
    "\n",
    "conn = psycopg2.connect(\n",
    "    host='localhost',\n",
    "    database='EmployeeSQL',\n",
    "    user='postgres',\n",
    "    password='Peterjuly19')\n",
    "\n",
    "cur = conn.cursor()\n",
    "\n",
    "cur.execute(\"select * from salaries\")\n",
    "\n",
    "rows= cur.fetchall()\n",
    "salaries = []\n",
    "for r in rows:\n",
    "    salaries.append(r)\n",
    "    \n",
    "cur.execute(\"select * from titles\")\n",
    "\n",
    "rows= cur.fetchall()\n",
    "titles = []\n",
    "for r in rows:\n",
    "    titles.append(r)\n",
    "    \n",
    "cur.close()\n",
    "conn.close()\n",
    "\n",
    "salaries=pd.DataFrame(salaries)\n",
    "salaries=salaries[[0, 1]]\n",
    "salaries=salaries.rename(columns ={0: 'Employee No.', 1:'Salary'})\n",
    "\n",
    "titles=pd.DataFrame(titles)\n",
    "titles=titles[[0, 1]]\n",
    "titles=titles.rename(columns ={0: 'Employee No.', 1:'Title'})\n",
    "\n",
    "sal_tit_df=pd.merge(salaries, titles, on = 'Employee No.')\n",
    "sal_tit_df.head()"
   ]
  },
  {
   "cell_type": "code",
   "execution_count": 27,
   "metadata": {},
   "outputs": [
    {
     "data": {
      "text/plain": [
       "443308"
      ]
     },
     "execution_count": 27,
     "metadata": {},
     "output_type": "execute_result"
    }
   ],
   "source": [
    "sal_tit_df['Employee No.'].count()"
   ]
  },
  {
   "cell_type": "code",
   "execution_count": 28,
   "metadata": {},
   "outputs": [
    {
     "data": {
      "text/plain": [
       "count    443308.000000\n",
       "mean      53023.809615\n",
       "std       14337.904140\n",
       "min       40000.000000\n",
       "25%       40000.000000\n",
       "50%       48746.000000\n",
       "75%       61843.000000\n",
       "max      129492.000000\n",
       "Name: Salary, dtype: float64"
      ]
     },
     "execution_count": 28,
     "metadata": {},
     "output_type": "execute_result"
    }
   ],
   "source": [
    "sal_tit_df['Salary'].describe()"
   ]
  },
  {
   "cell_type": "code",
   "execution_count": 26,
   "metadata": {},
   "outputs": [
    {
     "data": {
      "image/png": "[encoded data removed]",
      "text/plain": [
       "<Figure size 864x576 with 1 Axes>"
      ]
     },
     "metadata": {
      "needs_background": "light"
     },
     "output_type": "display_data"
    }
   ],
   "source": [
    "ax = sal_tit_df.hist(column='Salary', bins=25, grid=False, figsize=(12,8), color='#86bf91', zorder=2, rwidth=0.9)\n",
    "\n",
    "ax = ax[0]\n",
    "for x in ax:\n",
    "\n",
    "    # Despine\n",
    "    x.spines['right'].set_visible(False)\n",
    "    x.spines['top'].set_visible(False)\n",
    "    x.spines['left'].set_visible(False)\n",
    "\n",
    "    # Switch off ticks\n",
    "    x.tick_params(axis=\"both\", which=\"both\", bottom=\"off\", top=\"off\", labelbottom=\"on\", left=\"off\", right=\"off\", labelleft=\"on\")\n",
    "\n",
    "    # Draw horizontal axis lines\n",
    "    vals = x.get_yticks()\n",
    "    for tick in vals:\n",
    "        x.axhline(y=tick, linestyle='dashed', alpha=0.4, color='#eeeeee', zorder=1)\n",
    "\n",
    "    # Remove title\n",
    "    x.set_title(\"Salary's Range\")\n",
    "\n",
    "    # Set x-axis label\n",
    "    x.set_xlabel(\"Salary\", labelpad=20, weight='bold', size=12)\n",
    "\n",
    "    # Set y-axis label\n",
    "    x.set_ylabel(\"Employees\", labelpad=20, weight='bold', size=12)\n",
    "\n",
    "    # Format y-axis label\n",
    "    x.yaxis.set_major_formatter(StrMethodFormatter('{x:,g}'))"
   ]
  },
  {
   "cell_type": "code",
   "execution_count": 36,
   "metadata": {},
   "outputs": [
    {
     "data": {
      "text/html": [
       "<div>\n",
       "<style scoped>\n",
       "    .dataframe tbody tr th:only-of-type {\n",
       "        vertical-align: middle;\n",
       "    }\n",
       "\n",
       "    .dataframe tbody tr th {\n",
       "        vertical-align: top;\n",
       "    }\n",
       "\n",
       "    .dataframe thead th {\n",
       "        text-align: right;\n",
       "    }\n",
       "</style>\n",
       "<table border=\"1\" class=\"dataframe\">\n",
       "  <thead>\n",
       "    <tr style=\"text-align: right;\">\n",
       "      <th></th>\n",
       "      <th>Title</th>\n",
       "      <th>Salary</th>\n",
       "    </tr>\n",
       "  </thead>\n",
       "  <tbody>\n",
       "    <tr>\n",
       "      <td>0</td>\n",
       "      <td>Assistant Engineer</td>\n",
       "      <td>48493.20</td>\n",
       "    </tr>\n",
       "    <tr>\n",
       "      <td>1</td>\n",
       "      <td>Engineer</td>\n",
       "      <td>48539.78</td>\n",
       "    </tr>\n",
       "    <tr>\n",
       "      <td>2</td>\n",
       "      <td>Manager</td>\n",
       "      <td>51531.04</td>\n",
       "    </tr>\n",
       "    <tr>\n",
       "      <td>3</td>\n",
       "      <td>Senior Engineer</td>\n",
       "      <td>48506.75</td>\n",
       "    </tr>\n",
       "    <tr>\n",
       "      <td>4</td>\n",
       "      <td>Senior Staff</td>\n",
       "      <td>58503.29</td>\n",
       "    </tr>\n",
       "    <tr>\n",
       "      <td>5</td>\n",
       "      <td>Staff</td>\n",
       "      <td>58465.27</td>\n",
       "    </tr>\n",
       "    <tr>\n",
       "      <td>6</td>\n",
       "      <td>Technique Leader</td>\n",
       "      <td>48580.51</td>\n",
       "    </tr>\n",
       "  </tbody>\n",
       "</table>\n",
       "</div>"
      ],
      "text/plain": [
       "                Title    Salary\n",
       "0  Assistant Engineer  48493.20\n",
       "1            Engineer  48539.78\n",
       "2             Manager  51531.04\n",
       "3     Senior Engineer  48506.75\n",
       "4        Senior Staff  58503.29\n",
       "5               Staff  58465.27\n",
       "6    Technique Leader  48580.51"
      ]
     },
     "execution_count": 36,
     "metadata": {},
     "output_type": "execute_result"
    }
   ],
   "source": [
    "avg_sal_by_tit=sal_tit_df[['Salary','Title']]\n",
    "\n",
    "avg_sal_by_tit=avg_sal_by_tit.groupby(['Title']).mean()\n",
    "avg_sal_by_tit=pd.DataFrame(avg_sal_by_tit)\n",
    "avg_sal_by_tit=avg_sal_by_tit.reset_index()\n",
    "avg_sal_by_tit=avg_sal_by_tit.round(2)\n",
    "avg_sal_by_tit"
   ]
  },
  {
   "cell_type": "code",
   "execution_count": 50,
   "metadata": {},
   "outputs": [
    {
     "data": {
      "text/plain": [
       "<matplotlib.axes._subplots.AxesSubplot at 0x194d1987448>"
      ]
     },
     "execution_count": 50,
     "metadata": {},
     "output_type": "execute_result"
    },
    {
     "data": {
      "image/png": "[encoded data removed]",
      "text/plain": [
       "<Figure size 432x288 with 1 Axes>"
      ]
     },
     "metadata": {
      "needs_background": "light"
     },
     "output_type": "display_data"
    }
   ],
   "source": [
    "ax = avg_sal_by_tit.plot.bar(x='Title', y='Salary', rot=45)\n",
    "ax"
   ]
  },
  {
   "cell_type": "code",
   "execution_count": null,
   "metadata": {},
   "outputs": [],
   "source": []
  }
 ],
 "metadata": {
  "kernelspec": {
   "display_name": "Python 3",
   "language": "python",
   "name": "python3"
  },
  "language_info": {
   "codemirror_mode": {
    "name": "ipython",
    "version": 3
   },
   "file_extension": ".py",
   "mimetype": "text/x-python",
   "name": "python",
   "nbconvert_exporter": "python",
   "pygments_lexer": "ipython3",
   "version": "3.7.4"
  }
 },
 "nbformat": 4,
 "nbformat_minor": 4
}
